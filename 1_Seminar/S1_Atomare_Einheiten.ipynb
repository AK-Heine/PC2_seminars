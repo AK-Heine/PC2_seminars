{
 "cells": [
  {
   "cell_type": "markdown",
   "metadata": {},
   "source": [
    "# Atomare Einheiten\n",
    "\n",
    "Atomare Einheiten sind ein natürliches Einheitssystem.[<sup>1</sup>](#fn1) Um diese zu motivieren, betrachten Sie die Schrödinger-Gleichung in SI-Einheiten:\n",
    "\n",
    "$$\n",
    "\\left[ \\frac{-\\hbar^2}{m_e} \\frac{\\nabla^2}{2} -\\frac{e^2}{4 \\pi \\varepsilon_0 |\\vec{r}|} \\right] \\psi(\\vec{r}) = \\varepsilon \\psi(\\vec{r})\n",
    "$$\n",
    "\n",
    "Hierbei ist $\\hbar$ die reduzierte Planck-Konstante, $m_e$ die Masse eines freien Elektrons, $e$ die Elementarladung und $\\varepsilon_0$ die Permittivität des Vakuums und $\\vec{r} = (x,y,z)^T$.\n",
    "\n",
    "Um diese ganzen Einheiten loszuwerden, skalieren wir die Koordinaten $x,y,z \\rightarrow \\lambda x', \\lambda y', \\lambda z'$, sodass die obige Gleichung transformiert zu:\n",
    "\n",
    "$$\n",
    "\\left[ \\frac{-\\hbar^2}{m_e \\lambda^2} \\frac{(\\nabla ')^2}{2} -\\frac{e^2}{4 \\pi \\varepsilon_0 \\lambda |\\vec{r}'|} \\right] \\psi(\\vec{r}') = \\varepsilon \\psi(\\vec{r}')\n",
    "$$\n",
    "\n",
    "Der erste Term repräsentiert die kinetische Energie und der zweite Term die potentielle Energie. Daher müssen diese dieselbe Einheit haben:\n",
    "\n",
    "$$\n",
    "\\frac{\\hbar^2}{m_e \\lambda^2} = \\frac{e^2}{4 \\pi \\varepsilon_0\\lambda} = E_H\n",
    "$$\n",
    "\n",
    "Diese Energieeinheit nennt man Hartree. Stellen wir nach $\\lambda$ um, finden wir:\n",
    "\n",
    "$$\n",
    "\\lambda = \\frac{4\\pi \\varepsilon_0 \\hbar^2}{m_e e^2} = a_0\n",
    "$$\n",
    "\n",
    "Damit hat $\\lambda$, wie aus der ersten Gleichung zu erwarten war, die Einheit einer Länge. Diese Länge nennt man $a_0$, den Bohr'schen Radius oder auch einfach nur ein Bohr. Um nun die Gleichungen zu vereinfachen, setzen wir all diese Einheiten auf $1$:\n",
    "\n",
    "$$\n",
    "4 \\pi = \\varepsilon_0 = \\hbar = m_e = e = a_0 = 1\n",
    "$$\n",
    "\n",
    "Gibt man also alle Längeneinheiten in Einheiten von $a_0$ an und die Energie in Einheiten von $E_H$, erhält man die dimensionslose Gleichung:\n",
    "\n",
    "$$\n",
    "\\left[ \\frac{-(\\nabla ')^2}{2} -\\frac{1}{|\\vec{r}'|} \\right] \\psi(\\vec{r}') = \\varepsilon' \\psi(\\vec{r}')\n",
    "$$\n",
    "\n",
    "<span id=\"fn1\"> 1) Ostlund N. Szabo A. Modern quantum chemistry. 1st edition. McGraw-Hill Publishing Company, 1996.</span>"
   ]
  }
 ],
 "metadata": {
  "kernelspec": {
   "display_name": "Python 3",
   "language": "python",
   "name": "python3"
  },
  "language_info": {
   "codemirror_mode": {
    "name": "ipython",
    "version": 3
   },
   "file_extension": ".py",
   "mimetype": "text/x-python",
   "name": "python",
   "nbconvert_exporter": "python",
   "pygments_lexer": "ipython3",
   "version": "3.8.5"
  }
 },
 "nbformat": 4,
 "nbformat_minor": 4
}
