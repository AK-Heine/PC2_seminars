{
 "cells": [
  {
   "cell_type": "markdown",
   "metadata": {},
   "source": [
    "# Benutzen der Jupyter-Notebook-Oberfläche\n",
    "\n",
    "\n",
    "1. Die obere Leiste ist die Menü-Bar. Um diese müssen Sie sich größtenteils nicht kümmern. Je nach Browser-Einstellungen kann es sein, dass Sie auf den Button \"Trusted\" oder \"Not Trusted\" klicken müssen, um die Ausführung von Zellen im Notebook zu erlauben.\n",
    "\n",
    "<img src=\"../Pictures/Intro_1.png\" alt=\"Drawing\" style=\"width: 1000px;\"/>\n",
    "\n",
    "2. Wenn Sie viele Notebooks zeitgleich offen haben, kann es sein, dass Sie das Memory-Limit von 2GB überschreiten. In diesem Fall, löschen Sie den Output aller Zellen:\n",
    "\n",
    "<img src=\"../Pictures/Intro_2.png\" alt=\"Drawing\" style=\"width: 1000px;\"/>\n",
    "\n",
    "3. Um Zellen auszuführen, befolgen Sie diese Schritte:\n",
    "\n",
    "<img src=\"../Pictures/Intro_3.png\" alt=\"Drawing\" style=\"width: 1000px;\"/>"
   ]
  }
 ],
 "metadata": {
  "kernelspec": {
   "display_name": "Python 3",
   "language": "python",
   "name": "python3"
  },
  "language_info": {
   "codemirror_mode": {
    "name": "ipython",
    "version": 3
   },
   "file_extension": ".py",
   "mimetype": "text/x-python",
   "name": "python",
   "nbconvert_exporter": "python",
   "pygments_lexer": "ipython3",
   "version": "3.8.5"
  }
 },
 "nbformat": 4,
 "nbformat_minor": 4
}
