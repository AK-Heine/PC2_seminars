{
 "cells": [
  {
   "cell_type": "markdown",
   "metadata": {},
   "source": [
    "\n",
    "# 3. Schwingung: Harmonischer Oszillator\n",
    "\n",
    "Das Potential des harmonischen Oszillators in einer Dimension lautet:\n",
    "$$\n",
    "U(x) = \\frac{1}{2} kx^2\n",
    "$$\n",
    "\n",
    "Für dieses Potential ergeben sich folgende Lösungen der Schrödingergleichung:\n",
    "\n",
    "$$\n",
    "E_n = \\hbar \\omega \\left( n + \\frac{1}{2} \\right) ~~~ \\omega = \\frac{\\hbar k^2}{m} \\\\\n",
    "\\Psi_n(x') = \\underbrace{\\sqrt{ \\frac{1}{2^n n! \\sqrt{\\pi} \\alpha }}}_{\\text{Normierungskoeffizient}~C_n} \n",
    "\\cdot \\underbrace{H_n(x')}_{\\text{Hermit-Polynom}} \n",
    "\\cdot \\underbrace{e^-\\frac{x'^2}{2}}_{\\text{Gauss-Kurve}} ~~\\text{mit}~~x'= x / \\alpha ~~\\text{mit } \\alpha =  \\left(\\frac{\\hbar^2}{mk}\\right)^{\\left(\\frac{1}{4}\\right)}\n",
    "$$\n",
    "\n",
    "Die sogenannten Hermitschen Polynome sind Lösungen spezieller Differentialgleichungen, die man nachschlagen kann. Die ersten drei Lösungen lauten:\n",
    "$$\n",
    "\\begin{aligned}\n",
    "E_0 = \\frac{\\hbar \\omega}{2}  &\\rightarrow \\Psi_0(x') = \\sqrt{ \\frac{1}{\\sqrt{\\pi} }} e^-\\frac{x'^2}{2} \\\\ \n",
    "E_1 = \\frac{3 \\hbar \\omega}{2}  &\\rightarrow \\Psi_1(x') = \\sqrt{ \\frac{1}{2 \\sqrt{\\pi} }} 2x' e^-\\frac{x'^2}{2} \\\\ \n",
    "E_2 = \\frac{5 \\hbar \\omega}{2}  &\\rightarrow \\Psi_2(x') = \\sqrt{ \\frac{1}{8 \\sqrt{\\pi} }} \\left( 4x'^2 -2 \\right) e^-\\frac{x'^2}{2} \\\\ \n",
    "\\end{aligned}\n",
    "$$\n",
    "\n",
    "Diese lassen sich wie folgt visualisieren:"
   ]
  },
  {
   "cell_type": "code",
   "execution_count": 1,
   "metadata": {
    "hideCode": false,
    "hideOutput": false,
    "hidePrompt": false
   },
   "outputs": [
    {
     "data": {
      "application/vnd.jupyter.widget-view+json": {
       "model_id": "252e2579a21d4c3cbd30a4bbb3ba6b78",
       "version_major": 2,
       "version_minor": 0
      },
      "text/plain": [
       "interactive(children=(IntSlider(value=0, description='n', max=15), FloatSlider(value=0.5, description='k', max…"
      ]
     },
     "metadata": {},
     "output_type": "display_data"
    },
    {
     "data": {
      "text/plain": [
       "<function __main__.show_plot(n=0, k=0.5)>"
      ]
     },
     "execution_count": 1,
     "metadata": {},
     "output_type": "execute_result"
    }
   ],
   "source": [
    "import numpy as np\n",
    "import matplotlib.pyplot as plt\n",
    "import math\n",
    "from scipy.special import hermite, factorial\n",
    "from ipywidgets import interact\n",
    "plt.xkcd()\n",
    "plt.style.use(\"seaborn-ticks\")\n",
    "plt.rcParams[\"legend.handlelength\"] = 0.8\n",
    "plt.rcParams[\"legend.framealpha\"] = 0.8\n",
    "plt.rcParams.update({\"font.size\": 12})\n",
    "\n",
    "a0 = 1\n",
    "hbar = 1\n",
    "m_e = 1\n",
    "x = np.linspace(-15,15,10000) * a0\n",
    "\n",
    "def wavefunction(x, n, k):\n",
    "    alpha = (hbar ** 2 / (m_e * k))**(1/4)\n",
    "    x1 = x / alpha\n",
    "    C = np.sqrt(1 / (2**n * factorial(n) * np.sqrt(np.pi) * alpha))\n",
    "    H = hermite(n, monic=False)\n",
    "    H = H(x1)\n",
    "    gauss = np.exp(-x1**2 / 2)\n",
    "    return C * H * gauss\n",
    "\n",
    "def energy(n, w):\n",
    "    return hbar*w*(n+1/2)\n",
    "\n",
    "def show_plot(n=0, k =0.5):\n",
    "    w = (hbar * k**2 / (m_e))\n",
    "    alpha = (hbar ** 2 / (m_e * k))**(1/4)\n",
    "    fig, ax = plt.subplots(1,3 ,figsize=(15,5), sharey=False, sharex=False)\n",
    "    for i in [0,1,2,3]:       \n",
    "        ax[1].plot(x, 0.25*wavefunction(x,i,k)+ energy(i, w), color=\"crimson\")\n",
    "        ax[2].plot(x, 0.5*wavefunction(x,i,k)**2 + energy(i, w), color=\"crimson\")\n",
    "        ax[1].hlines(energy(i, w), np.min(x), np.max(x))     \n",
    "        ax[2].hlines(energy(i, w), np.min(x), np.max(x))  \n",
    "    ax[1].plot(x, 0.5 * k * (x / alpha)**2, color=\"royalblue\", linestyle=\"--\", label=\"$U(x')$\")\n",
    "    ax[2].plot(x, 0.5 * k * (x / alpha )**2, color=\"royalblue\", linestyle=\"--\", label=\"$U(x')$\")\n",
    "    ax[1].legend(loc=\"upper right\")\n",
    "    ax[2].legend(loc=\"upper right\")\n",
    "    ax[1].set_ylim(0, 2)\n",
    "    ax[2].set_ylim(0, 2)\n",
    "    ax[1].set_xlim(-3, 3)\n",
    "    ax[2].set_xlim(-3, 3)\n",
    "    ax[1].set_xticks([-3,0,3])\n",
    "    ax[2].set_xticks([-3,0,3])\n",
    "    ax[2].set_yticks([])\n",
    "    ax[1].set_yticks([energy(0, w), energy(1, w), energy(2, w), energy(3,w)])\n",
    "    ax[1].set_yticklabels([\"n=0\", \"n=1\", \"n=2\", \"n=3\"])\n",
    "    ax[1].set_xticklabels([\"-kx\", 0, \"kx\"])\n",
    "    ax[2].set_xticklabels([\"-kx\", 0, \"kx\"])\n",
    "    ax[1].set_title(\"$\\Psi(x)$\")\n",
    "    ax[2].set_title(\"$|\\Psi(x)|^2$\")\n",
    "    #interactive part\n",
    "    ax[0].plot(x, wavefunction(x,n,k), color=\"crimson\") \n",
    "    ax[0].set_xticks([-10,0,10])\n",
    "    ax[0].set_xlim([-10,10])\n",
    "    ax[0].set_ylim([-1,1])\n",
    "    ax[0].set_xticklabels([\"-kx\", 0, \"kx\"])\n",
    "    ax[0].set_yticks([])\n",
    "    ax[0].set_title(r\"$\\Psi(x)$\")\n",
    "    ax[0].set_ylabel(\"Amplitude\")\n",
    "    plt.show()\n",
    "\n",
    "interact(show_plot, n=(0,15,1), k=(0.25,0.75,0.05))"
   ]
  },
  {
   "cell_type": "markdown",
   "metadata": {},
   "source": [
    "Dabei sind folgende Merkmale wichtig:\n",
    "- Es gibt eine Nullpunktsenergie.\n",
    "- Die Energieniveaus sind äquidistant.\n",
    "- Die Aufenthaltswahrscheinlichkeit sinkt mit $kx^2$, ist dadurch aber außerhalb des Potentials nicht 0."
   ]
  }
 ],
 "metadata": {
  "file_extension": ".py",
  "kernelspec": {
   "display_name": "Python 3",
   "language": "python",
   "name": "python3"
  },
  "language_info": {
   "codemirror_mode": {
    "name": "ipython",
    "version": 3
   },
   "file_extension": ".py",
   "mimetype": "text/x-python",
   "name": "python",
   "nbconvert_exporter": "python",
   "pygments_lexer": "ipython3",
   "version": "3.8.5"
  },
  "mimetype": "text/x-python",
  "name": "python",
  "npconvert_exporter": "python",
  "pygments_lexer": "ipython3",
  "version": 3
 },
 "nbformat": 4,
 "nbformat_minor": 2
}
