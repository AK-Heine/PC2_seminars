{
 "cells": [
  {
   "cell_type": "markdown",
   "metadata": {},
   "source": [
    "# 5. Seminar: MO-Theorie\n",
    "\n",
    "Im letzten Seminar haben wir kennengelernt, dass sich durch das Einführen einer Basis die Schrödinger-Gleichung in Matrix-Form bringen lässt. Im Allgemeinen werden dabei **Ein-Teilchen-Hamiltonians** $\\hat{H}$ herangezogen, deren Lösungen Produktwellenfunktionen sind.\n",
    "\n",
    "Im Detail, jedes **Molekülorbital** $\\psi$ (wir lassen den Index $i$ fallen) wird als Linearkombination ausgedrückt. Dabei sind $c_j$ die Expansionskoeffizienten und $\\phi_j$ *bekannte* Funktionen, die das Schrödinger-Problem erfüllen. Im Rahmen dieses Seminars beschränken wir uns auf die Wahl von wasserstoff-artigen Atomorbitalen $\\phi_j = R_{nl}(r)Y_{lm}(\\theta, \\varphi)$.\n",
    "\n",
    "$$\n",
    "\\begin{aligned}\n",
    "\\psi &= \\sum_{j=1}^N c_{j}\\phi_j \\\\\n",
    "\\varepsilon &= \\frac{\\int (\\sum_{j=1}^N c_{j}\\phi_j) \\hat{H}(\\sum_{j=1}^N c_{j}\\phi_j) d\\tau}{\\int (\\sum_{j=1}^N c_{ij}\\phi_j) (\\sum_{j=1}^N c_{ij}\\phi_j) d\\tau} \\\\\n",
    "\\end{aligned}\n",
    "$$\n",
    "\n",
    "Hierbei ist $\\varepsilon$ die Energie des Molekülorbitals. Für Produktwellenfunktionen ist die Gesamtenergie $E=\\sum_i^{occ.} \\varepsilon_i$, die Summe über alle besetzten Molekülorbitale (ggf. mit doppelter Besetzung).\n",
    "\n",
    "\n",
    "Durch das Variationsprinzip gilt:\n",
    "\n",
    "$$\n",
    "\\begin{gather*}\n",
    " 0 = \\frac{\\partial \\varepsilon}{\\partial c_{1}} = \\frac{\\partial \\varepsilon}{\\partial c_{2}} = ... = \\frac{\\partial \\varepsilon}{\\partial c_{j}} ... = \\frac{\\partial \\varepsilon}{\\partial c_{N}}\n",
    "\\end{gather*}\n",
    "$$\n",
    "\n",
    "Als Beispiel lautet die Ableitung nach $c_1$:\n",
    "\n",
    "$$\n",
    "\\begin{aligned}\n",
    "0 &= \\frac{\\partial \\varepsilon}{\\partial c_{1}} = \\int \\phi_1 \\hat{H}\\left(\\sum_{j=1}^N c_{j}\\phi_j\\right) d\\tau \n",
    "- \\varepsilon \\cdot  \\int \\phi_1 \\left(\\sum_{j=1}^N c_{j}\\phi_j\\right) d\\tau  \\\\\n",
    "&= c_{1}\\int \\phi_1\\hat{H}\\phi_1 d\\tau  + c_{2}\\int \\phi_1\\hat{H}\\phi_2 d\\tau  + ... + c_{N}\\int \\phi_1\\hat{H}\\phi_N d\\tau \\\\\n",
    "&~~~- \\varepsilon \\left( c_{1}\\int \\phi_1\\phi_1 d\\tau + c_{2}\\int \\phi_1\\phi_2 d\\tau~+ ...  ~ c_{N}\\int \\phi_1\\phi_N d\\tau \\right) \\\\\n",
    "& = \\sum_j^N c_j \\left[\\int \\phi_1\\hat{H}\\phi_j d\\tau - \\varepsilon \\int \\phi_1\\phi_j d\\tau\\right]\n",
    "\\end{aligned}\n",
    "$$\n",
    "\n",
    "Wir führen eine kompakte Notation ein:\n",
    "\n",
    "$$\n",
    "\\begin{aligned}\n",
    "\\int \\phi_k\\hat{H}\\phi_j d\\tau = H_{kj} \\\\\n",
    "\\int \\phi_k\\phi_j d\\tau = S_{kj}\n",
    "\\end{aligned}\n",
    "$$\n",
    "\n",
    "Man bezeichnet $H_{kj}$ als Hamilton-Integrale und $S_{kj}$ als Überlappungs-Integrale. Man erhält dadurch ein $N \\times N$ Gleichungssystem aller Ableitungen:\n",
    "\n",
    "$$\n",
    "\\begin{aligned}\n",
    " \\sum_{j=1}^N c_{j} [H_{1j} - \\varepsilon S_{1j}] &= 0 \\\\\n",
    " \\vdots \\\\\n",
    " \\sum_{j=1}^N c_{j} [H_{kj} - \\varepsilon S_{kj}] &= 0 \\\\\n",
    " \\vdots \\\\\n",
    " \\sum_{j=1}^N c_{j} [H_{Nj} - \\varepsilon S_{Nj}] &= 0\n",
    "\\end{aligned}\n",
    "$$\n",
    "\n",
    "Dieses kann kompakt als Matrixgleichung ausgedrückt werden:\n",
    "\n",
    "$$\n",
    "\\begin{pmatrix}\n",
    "H_{11} - \\varepsilon S_{11} & H_{12} - \\varepsilon S_{12} & ... & H_{1j} - \\varepsilon S_{1j} \\\\\n",
    "H_{21} - \\varepsilon S_{21} & H_{22} - \\varepsilon S_{22} & ... & H_{2j} - \\varepsilon S_{2j} \\\\\n",
    "\\vdots & \\vdots & \\vdots & \\vdots \\\\\n",
    "H_{k1} - \\varepsilon S_{k1} & H_{k2} - \\varepsilon S_{k2} & ... & H_{kj} - \\varepsilon S_{kj} \\\\\n",
    "\\end{pmatrix}\n",
    "\\cdot\n",
    "\\begin{pmatrix}\n",
    "c_{1} \\\\\n",
    "c_{2} \\\\\n",
    "\\vdots \\\\\n",
    "c_{N}\n",
    "\\end{pmatrix}\n",
    "= \\begin{pmatrix}\n",
    "0 \\\\\n",
    "0 \\\\\n",
    "\\vdots \\\\\n",
    "0 \\end{pmatrix}\n",
    "$$\n",
    "\n",
    "$$\n",
    "\\left(\\underline{\\underline{\\mathbf{H}}} - \\varepsilon \\underline{\\underline{\\mathbf{S}}}\\right) \\vec{c} = 0\n",
    "$$\n",
    "\n",
    "Mit der Hamilton-Matrix $\\underline{\\underline{\\mathbf{H}}}$ und der Überlappungs-Matrix $\\underline{\\underline{\\mathbf{S}}}$, die auf den Eigenvektor der LCAO-Koeffizienten $\\vec{c}$ wirken.\n",
    "\n",
    "Die Matrix-Form der Schrödinger-Gleichung ist von großer Bedeutung, weil eine Basis zur Entwicklung der Wellenfunktion immer herangezogen werden muss. Das erlaubt eine neue Interpretation der Operatoren und Wellenfunktionen:\n",
    "\n",
    "- die quantenmechanischen Operatoren haben eine (quadratische) Matrixform und Eigenvektoren \n",
    "- die Matrixformen müssen spezielle Eigenschaften erfüllen: Kommutation, Invertierbarkeit, Hermetizität...\n",
    "- die Wellenfunktion ist Teil eines abstrakten Vektorraums\n",
    "- die Matrixoperatoren sind Teil mathematischer Gruppen und Symmetrieoperationen"
   ]
  },
  {
   "cell_type": "markdown",
   "metadata": {},
   "source": [
    "## Das He$_2$-Molekül\n",
    "\n",
    "$$\n",
    "\\newcommand{\\ket}[1]{\\left|{#1}\\right\\rangle}\n",
    "\\newcommand{\\bra}[1]{\\left\\langle{#1}\\right|}\n",
    "\\newcommand{\\braket}[1]{\\left\\langle{#1}\\right\\rangle}\n",
    "\\begin{aligned}\n",
    "|r| = 1~\\text{Angström} & & \\psi = c_1 \\phi_{1s}(0) + c_2 \\phi_{1s}(r) \\\\\n",
    "\\text{Hamilton-Matrixelemente: } & & \\braket{\\phi_{1s}(0) | \\phi_{1s}(0)} =  \\braket{\\phi_{1s}(r) | \\phi_{1s}(r)} = -0.56654~E_H \\\\\n",
    "& & \\braket{\\phi_{1s}(0) | \\hat{H} | \\phi_{1s}(r)} = - 0.34471~E_H \\\\\n",
    "\\text{Überlapp-Matrixelemente: } & & \\braket{\\phi_{1s}(0) | \\phi_{1s}(r)} = + 0.30862\\\\\n",
    "& & \\braket{\\phi_{1s}(0) | \\phi_{1s}(0)} = \\braket{\\phi_{1s}(r) | \\phi_{1s}(r)} = 1\n",
    "\\end{aligned}\n",
    "$$\n",
    "\n",
    "Wir müssen das folgende *allgemeine* Eigenwertproblem lösen:\n",
    "\n",
    "$$\n",
    "\\left[\n",
    "\\begin{pmatrix}\n",
    "-0.56654 & -0.34471 \\\\\n",
    "-0.34471 & -0.56654 \n",
    "\\end{pmatrix}\n",
    "-\n",
    "\\varepsilon \\cdot \n",
    "\\begin{pmatrix}\n",
    "1 & 0.30862 \\\\\n",
    "0.30862 & 1 \n",
    "\\end{pmatrix}\n",
    "\\right]\n",
    "\\begin{pmatrix}\n",
    "c_1 \\\\\n",
    "c_2 \n",
    "\\end{pmatrix}\n",
    "=\n",
    "\\begin{pmatrix}\n",
    "0 \\\\\n",
    "0 \n",
    "\\end{pmatrix}\n",
    "$$"
   ]
  },
  {
   "cell_type": "code",
   "execution_count": 30,
   "metadata": {},
   "outputs": [
    {
     "data": {
      "text/latex": [
       "$\\displaystyle \\varepsilon_1 = -0.6963$"
      ],
      "text/plain": [
       "<IPython.core.display.Math object>"
      ]
     },
     "metadata": {},
     "output_type": "display_data"
    },
    {
     "data": {
      "text/latex": [
       "$\\displaystyle \\varepsilon_2 = -0.3209$"
      ],
      "text/plain": [
       "<IPython.core.display.Math object>"
      ]
     },
     "metadata": {},
     "output_type": "display_data"
    },
    {
     "data": {
      "text/latex": [
       "$\\displaystyle v_1 = (-0.6181,~-0.6181)$"
      ],
      "text/plain": [
       "<IPython.core.display.Math object>"
      ]
     },
     "metadata": {},
     "output_type": "display_data"
    },
    {
     "data": {
      "text/latex": [
       "$\\displaystyle v_2 = (0.8504,~-0.8504)$"
      ],
      "text/plain": [
       "<IPython.core.display.Math object>"
      ]
     },
     "metadata": {},
     "output_type": "display_data"
    }
   ],
   "source": [
    "import numpy as np\n",
    "from scipy.linalg import eigh\n",
    "from IPython.display import display, Math, Latex\n",
    "\n",
    "H = np.array([\n",
    "    [-0.56654, -0.34471],\n",
    "    [-0.34471, -0.56654]\n",
    "])\n",
    "\n",
    "S = np.array([\n",
    "    [1, 0.30862],\n",
    "    [0.30862, 1]\n",
    "])\n",
    "\n",
    "eigvals, eigvecs = eigh(H, S, eigvals_only=False)\n",
    "eigvecs = eigvecs.T\n",
    "\n",
    "display(Math(r'\\varepsilon_1 = {:.4f}'.format(eigvals[0])))\n",
    "display(Math(r'\\varepsilon_2 = {:.4f}'.format(eigvals[1])))\n",
    "display(Math(r'v_1 = ({:.4f},~{:.4f})'.format(*eigvecs[0])))\n",
    "\n",
    "display(Math(r'v_2 = ({:.4f},~{:.4f})'.format(*eigvecs[1])))"
   ]
  },
  {
   "cell_type": "markdown",
   "metadata": {},
   "source": [
    "#### Gesamtenergie und Bindungsenergie\n",
    "Daraus können wir die Gesamtenergie des Moleküls berechnen:\n",
    "\n",
    "$$\n",
    "E = \\sum_i^{occ.} n_i \\varepsilon_i = 2 \\cdot \\varepsilon_1 + 2 \\cdot \\varepsilon_2 = -1.8544~E_H\n",
    "$$\n",
    "\n",
    "Die Bindungsenergie ist die Energie des Moleküls bezüglich seiner Fragmente:\n",
    "\n",
    "$$\n",
    "\\begin{aligned}\n",
    "E_B = E - 2 E_{He} &= -1.8544~E_H - 4 \\cdot -0.56654~E_H \\\\\n",
    "&= 0.4118~E_H\n",
    "\\end{aligned}\n",
    "$$\n",
    "\n",
    "Dieser Wert ist größer Null, daher ist das He$_2$-Molekül nicht stabil.\n",
    "\n",
    "---\n",
    "\n",
    "#### Aussehen der Molekülorbitale\n",
    "\n",
    "Um die Molekülorbitale zu visualisieren, müssen wir uns das Ergebnis der Expansion ansehen:\n",
    "\n",
    "$$ \\begin{aligned}\n",
    "\\psi_1 &= \\sum_j^2 c_{1, j} \\phi_j = -0.6181 \\phi_{1s}(0) - 0.6181 \\phi_{1s}(r) \\\\\n",
    "\\psi_2 &= \\sum_j^2 c_{2, j} \\phi_j = 0.8504 \\phi_{1s}(0) - 0.8504 \\phi_{1s}(r) \\\\\n",
    "\\end{aligned}\n",
    "$$\n",
    "\n",
    "Die Größe des Koeffizienten gibt dabei seinen Beitrag zu diesem Molekülorbital an.\n",
    "Das Vorzeichen des Koeffizienten bestimmt die Ausrichtung des Radialteils bezüglich der Koordinatenachse.\n",
    "\n",
    "#### Wert von Matrixelementen\n",
    "\n",
    "Die Annahme, dass $\\varepsilon_{1s}(He) = H_{jj}$ ist, ist im übrigen nicht sinnvoll. Welche Wechselwirkungen unterscheiden denn den Hamilton-Operator des freien He-Atoms und des He-He-Dimers?"
   ]
  },
  {
   "cell_type": "markdown",
   "metadata": {},
   "source": [
    "## Das O$_2$-Molekül:\n",
    "\n",
    "Für jedes O-Atom werden 4 Orbitale berücksichtigt: 2s, 2p$_x$, 2p$_y$, 2p$_z$. Man erhält also eine 8x8-Matrix.\n",
    "\n",
    "Diese Matrix ist symmetrisch bezüglich der Diagonalen. Die Diagonalelemente der Hamilton-Matrix sind die Energien von Atomorbitalen. Die Diagonalelemente der Überlappungsmatrix sind orthonormiert. Es gilt also:\n",
    "\n",
    "- $H_{kj} = H_{jk}$ und $S_{kj} = S_{jk}$\n",
    "- $H_{kk} = \\varepsilon_k$\n",
    "- $S_{kk} = 1$ und $S_{kj} = 0$ wenn $\\vec{r}_k = \\vec{r}_j$"
   ]
  },
  {
   "cell_type": "code",
   "execution_count": 5,
   "metadata": {},
   "outputs": [
    {
     "data": {
      "text/latex": [
       "$\\displaystyle \\varepsilon_1 = -1.0390$"
      ],
      "text/plain": [
       "<IPython.core.display.Math object>"
      ]
     },
     "metadata": {},
     "output_type": "display_data"
    },
    {
     "data": {
      "text/latex": [
       "$\\displaystyle v_1 = ( 0.59,  0.00,~ 0.00,~ 0.12,~ 0.59,~ 0.00,~ 0.00,~-0.12) \\\\$"
      ],
      "text/plain": [
       "<IPython.core.display.Math object>"
      ]
     },
     "metadata": {},
     "output_type": "display_data"
    },
    {
     "data": {
      "text/latex": [
       "$\\displaystyle \\varepsilon_2 = -0.7276$"
      ],
      "text/plain": [
       "<IPython.core.display.Math object>"
      ]
     },
     "metadata": {},
     "output_type": "display_data"
    },
    {
     "data": {
      "text/latex": [
       "$\\displaystyle v_2 = (-0.67,  0.00,~ 0.00,~ 0.26,~ 0.67,~ 0.00,~ 0.00,~ 0.26) \\\\$"
      ],
      "text/plain": [
       "<IPython.core.display.Math object>"
      ]
     },
     "metadata": {},
     "output_type": "display_data"
    },
    {
     "data": {
      "text/latex": [
       "$\\displaystyle \\varepsilon_3 = -0.4497$"
      ],
      "text/plain": [
       "<IPython.core.display.Math object>"
      ]
     },
     "metadata": {},
     "output_type": "display_data"
    },
    {
     "data": {
      "text/latex": [
       "$\\displaystyle v_3 = ( 0.28,  0.00,~ 0.00,~-0.65,~ 0.28,~ 0.00,~ 0.00,~ 0.65) \\\\$"
      ],
      "text/plain": [
       "<IPython.core.display.Math object>"
      ]
     },
     "metadata": {},
     "output_type": "display_data"
    },
    {
     "data": {
      "text/latex": [
       "$\\displaystyle \\varepsilon_4 = -0.4275$"
      ],
      "text/plain": [
       "<IPython.core.display.Math object>"
      ]
     },
     "metadata": {},
     "output_type": "display_data"
    },
    {
     "data": {
      "text/latex": [
       "$\\displaystyle v_4 = ( 0.00, -0.03,~ 0.65,~-0.00,~ 0.00,~-0.03,~ 0.65,~ 0.00) \\\\$"
      ],
      "text/plain": [
       "<IPython.core.display.Math object>"
      ]
     },
     "metadata": {},
     "output_type": "display_data"
    },
    {
     "data": {
      "text/latex": [
       "$\\displaystyle \\varepsilon_5 = -0.4275$"
      ],
      "text/plain": [
       "<IPython.core.display.Math object>"
      ]
     },
     "metadata": {},
     "output_type": "display_data"
    },
    {
     "data": {
      "text/latex": [
       "$\\displaystyle v_5 = ( 0.00,  0.65,~ 0.03,~ 0.00,~-0.00,~ 0.65,~ 0.03,~-0.00) \\\\$"
      ],
      "text/plain": [
       "<IPython.core.display.Math object>"
      ]
     },
     "metadata": {},
     "output_type": "display_data"
    },
    {
     "data": {
      "text/latex": [
       "$\\displaystyle \\varepsilon_6 = -0.2005$"
      ],
      "text/plain": [
       "<IPython.core.display.Math object>"
      ]
     },
     "metadata": {},
     "output_type": "display_data"
    },
    {
     "data": {
      "text/latex": [
       "$\\displaystyle v_6 = (-0.00, -0.25,~ 0.74,~-0.00,~ 0.00,~ 0.25,~-0.74,~ 0.00) \\\\$"
      ],
      "text/plain": [
       "<IPython.core.display.Math object>"
      ]
     },
     "metadata": {},
     "output_type": "display_data"
    },
    {
     "data": {
      "text/latex": [
       "$\\displaystyle \\varepsilon_7 = -0.2005$"
      ],
      "text/plain": [
       "<IPython.core.display.Math object>"
      ]
     },
     "metadata": {},
     "output_type": "display_data"
    },
    {
     "data": {
      "text/latex": [
       "$\\displaystyle v_7 = (-0.00, -0.74,~-0.25,~ 0.00,~ 0.00,~ 0.74,~ 0.25,~-0.00) \\\\$"
      ],
      "text/plain": [
       "<IPython.core.display.Math object>"
      ]
     },
     "metadata": {},
     "output_type": "display_data"
    },
    {
     "data": {
      "text/latex": [
       "$\\displaystyle \\varepsilon_8 =  0.7145$"
      ],
      "text/plain": [
       "<IPython.core.display.Math object>"
      ]
     },
     "metadata": {},
     "output_type": "display_data"
    },
    {
     "data": {
      "text/latex": [
       "$\\displaystyle v_8 = (-0.63,  0.00,~ 0.00,~-0.88,~ 0.63,~ 0.00,~ 0.00,~-0.88) \\\\$"
      ],
      "text/plain": [
       "<IPython.core.display.Math object>"
      ]
     },
     "metadata": {},
     "output_type": "display_data"
    }
   ],
   "source": [
    "import numpy as np\n",
    "from scipy.linalg import eigh\n",
    "from IPython.display import display, Math, Latex\n",
    "\n",
    "e_2s = -0.86787\n",
    "e_2p = -0.33524\n",
    "\n",
    "H = np.array([\n",
    "    [e_2s,    0.00000,    0.00000,    0.00000,    -0.41430,    0.00000,   0.00000,    0.46607],\n",
    "    [0.00000,    e_2p,    0.00000,    0.00000,    0.00000,    -0.17229,   0.00000,    0.00000],\n",
    "    [0.00000,    0.00000,    e_2p,    0.00000,    0.00000,    0.00000,   -0.17229,    0.00000],\n",
    "    [0.00000,    0.00000,    0.00000,    e_2p,    -0.46607,    0.00000,   0.00000,    0.36686],\n",
    "    [-0.4143,    0.00000,    0.00000,    -0.46607,    e_2s,    0.00000,   0.00000,    0.00000],\n",
    "    [0.00000,    -0.17229,   0.00000,    0.00000,    0.00000,    e_2p,   0.00000,    0.00000],    \n",
    "    [0.00000,    0.00000,   -0.17229,    0.00000,    0.00000,    0.00000,   e_2p,    0.00000],\n",
    "    [0.46607,    0.00000,    0.00000,    0.36686,    0.00000,    0.00000,   0.00000,    e_2p],    \n",
    "])\n",
    "\n",
    "S = np.identity(8)\n",
    "S[0, 4] = S[4, 0] = 0.25723\n",
    "S[0, 7] = S[7, 0] = -0.33303\n",
    "S[1, 5] = S[5, 1] = 0.18732\n",
    "S[2, 6] = S[6, 2] = 0.18732\n",
    "S[3, 4] = S[4, 3] = 0.33303\n",
    "S[3, 7] = S[7, 3] = -0.25093\n",
    "\n",
    "eigvals, eigvecs = eigh(H, S, eigvals_only=False)\n",
    "eigvecs = eigvecs.T\n",
    "for i in range(8):\n",
    "    display(Math(r'\\varepsilon_{} = {: .4f}'.format(i+1, eigvals[i])))\n",
    "    display(Math(r'v_{} = ({: .2f}, {: .2f},~{: .2f},~{: .2f},~{: .2f},~{: .2f},~{: .2f},~{: .2f}) \\\\'.format(i+1, *eigvecs[i])))\n",
    "    "
   ]
  },
  {
   "cell_type": "markdown",
   "metadata": {},
   "source": [
    "Insgesamt müssen wir 12 Elektronen besetzen, wobei wir doppelt besetzen können. Der Endzustand ist ein Biradikal:\n",
    "\n",
    "$$\n",
    "\\begin{aligned}\n",
    "E_B &= \\sum_i^6 n_i \\varepsilon_i - 2 \\cdot E_O \\\\\n",
    "&= \\left(2 \\varepsilon_1 + 2 \\varepsilon_2 + 2 \\varepsilon_3 + 2 \\varepsilon_4 + \\varepsilon_5 + \\varepsilon_6\\right) - 2 \\cdot \\left(2 \\cdot -0.86787 + 2 \\cdot -0.33524 \\right) \\\\\n",
    "&= -0.3902\n",
    "\\end{aligned}\n",
    "$$"
   ]
  },
  {
   "cell_type": "markdown",
   "metadata": {},
   "source": [
    "## Das CO-Molekül\n",
    "\n",
    "Für CO schauen wir uns exemplarisch nur das Ergebnis an.\n",
    "\n",
    "i | $\\varepsilon$ | 1 | 2 | 3 | 4 | 5 | 6 | 7 | 8\n",
    "--- | --- | --- | --- | --- | --- | --- | --- | --- | ---\n",
    "1 | -1.2089 | 0.3466 | 0.0000  | 0.0000  | 0.1909  | 0.7205  | 0.0000  | 0.0000  | -0.0366\n",
    "2 | -0.5001 | 0.6872 | 0.0000  | 0.0000  | -0.3312 | -0.3831 | 0.0000  | 0.0000  | -0.4858\n",
    "3 | -0.2152 | 0.0000 | -0.5656 | -0.0670 | 0.0000  | 0.0000  | -0.7022 | -0.0831 | 0.0000\n",
    "4 | -0.2152 | 0.0000 | 0.0670  | -0.5656 | 0.0000  | 0.0000  | 0.0831  | -0.7022 | 0.0000\n",
    "5 | -0.0791 | 0.3776 | 0.0000  | 0.0000  | -0.5775 | 0.2225  | 0.0000  | 0.0000  | 0.6710\n",
    "6 | 0.1676  | 0.0000 | 0.8463  | -0.0964 | 0.0000  | 0.0000  | -0.7368 | 0.0839  | 0.0000\n",
    "7 | 0.1676  | 0.0000 | 0.0964  | 0.8463  | 0.0000  | 0.0000  | -0.0839 | -0.7368 | 0.0000\n",
    "8 | 3.1949  | 0.8976 | 0.0000  | 0.0000  | 1.0878  | -1.0186 | 0.0000  | 0.0000  | 0.8735"
   ]
  },
  {
   "cell_type": "markdown",
   "metadata": {},
   "source": [
    "## Diskussion\n",
    "\n",
    "- Wann können die Überlappelemente $S_{kj}$ negativ sein?\n",
    "- Wie verhält sich die Besetzung von Molekülorbitalen, was ist die Rolle des Spins?\n",
    "- Wenn man $N$ Atomorbitale für $M$ Atome zur Expansion heranzieht, wie viele Molekülorbitale erhält man?\n",
    "- Wo befindet sich das Elektron in der chemischen Bindung?\n",
    "- Sind freie Atomorbitale eine geeignete Basisfunktion zur Entwicklung von Molekülorbitalen?"
   ]
  },
  {
   "cell_type": "code",
   "execution_count": null,
   "metadata": {},
   "outputs": [],
   "source": []
  }
 ],
 "metadata": {
  "kernelspec": {
   "display_name": "Python 3",
   "language": "python",
   "name": "python3"
  },
  "language_info": {
   "codemirror_mode": {
    "name": "ipython",
    "version": 3
   },
   "file_extension": ".py",
   "mimetype": "text/x-python",
   "name": "python",
   "nbconvert_exporter": "python",
   "pygments_lexer": "ipython3",
   "version": "3.8.1"
  }
 },
 "nbformat": 4,
 "nbformat_minor": 2
}
